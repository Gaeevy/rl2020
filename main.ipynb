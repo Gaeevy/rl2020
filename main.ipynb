{
 "cells": [
  {
   "cell_type": "code",
   "execution_count": null,
   "metadata": {},
   "outputs": [],
   "source": [
    "from main import (\n",
    "    run_epsilon_greedy_simulation,\n",
    "    run_gradient_simulation,\n",
    "    run_optimistic_initial_values_simulation,\n",
    "    run_ucb_simulation,\n",
    ")"
   ]
  },
  {
   "cell_type": "code",
   "execution_count": null,
   "metadata": {},
   "outputs": [],
   "source": [
    "run_epsilon_greedy_simulation(\n",
    "    num_steps=1000,\n",
    "    num_sim=2000,\n",
    ")"
   ]
  },
  {
   "cell_type": "code",
   "execution_count": null,
   "metadata": {},
   "outputs": [],
   "source": [
    "run_optimistic_initial_values_simulation(\n",
    "    num_steps=1000,\n",
    "    num_sim=2000,\n",
    ")"
   ]
  },
  {
   "cell_type": "code",
   "execution_count": null,
   "metadata": {},
   "outputs": [],
   "source": [
    "run_ucb_simulation(\n",
    "    num_steps=1000,\n",
    "    num_sim=2000,\n",
    ")"
   ]
  },
  {
   "cell_type": "code",
   "execution_count": null,
   "metadata": {},
   "outputs": [],
   "source": [
    "run_gradient_simulation(\n",
    "    num_steps=1000,\n",
    "    num_sim=2000,\n",
    ")"
   ]
  }
 ],
 "metadata": {
  "kernelspec": {
   "display_name": "offerfit-poetry-310",
   "language": "python",
   "name": "offerfit-poetry-310"
  },
  "language_info": {
   "codemirror_mode": {
    "name": "ipython",
    "version": 3
   },
   "file_extension": ".py",
   "mimetype": "text/x-python",
   "name": "python",
   "nbconvert_exporter": "python",
   "pygments_lexer": "ipython3",
   "version": "3.10.6"
  }
 },
 "nbformat": 4,
 "nbformat_minor": 2
}
